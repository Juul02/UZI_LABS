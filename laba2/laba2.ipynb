{
 "cells": [
  {
   "cell_type": "code",
   "execution_count": 20,
   "metadata": {},
   "outputs": [],
   "source": [
    "import cv2\n",
    "import numpy as np\n",
    "import math\n",
    "import matplotlib.pyplot as plt\n",
    "from matplotlib import pyplot as plt\n",
    "from PIL import Image"
   ]
  },
  {
   "cell_type": "code",
   "execution_count": 21,
   "metadata": {},
   "outputs": [],
   "source": [
    "# Загрузка изображения\n",
    "f = cv2.imread('C:/Users/yulia/OneDrive/Docs/Stydy/UZI/laba2/xraychest.jpg')\n",
    "f = cv2.cvtColor(f, cv2.COLOR_BGR2GRAY)\n",
    "window_name = 'image'\n",
    "cv2.imshow(window_name, f)\n",
    "cv2.waitKey(0)\n",
    "cv2.destroyAllWindows()\n",
    "\n"
   ]
  },
  {
   "cell_type": "code",
   "execution_count": 22,
   "metadata": {},
   "outputs": [
    {
     "data": {
      "text/plain": [
       "-1"
      ]
     },
     "execution_count": 22,
     "metadata": {},
     "output_type": "execute_result"
    }
   ],
   "source": [
    "# Прямоe преобразования Фурье\n",
    "F = np.fft.fft2(f) # Прямое преобразование фурье\n",
    "Fshift = np.fft.fftshift(F) # Выравнивание по центру\n",
    "cv2.imshow(window_name, 0.1*np.log1p(np.abs(Fshift)))\n",
    "cv2.waitKey(0)"
   ]
  },
  {
   "cell_type": "markdown",
   "metadata": {},
   "source": [
    "### 2.1. Выполните операцию низкочастотной фильтрации исходного изображения рентгеновского снимка грудной клетки xraychest.jpg. "
   ]
  },
  {
   "cell_type": "code",
   "execution_count": 23,
   "metadata": {},
   "outputs": [],
   "source": [
    "def IMAGE_COLORMAP (image):\n",
    "    image_normalized = (image - np.min(image)) / (np.max(image) - np.min(image)) * 255\n",
    "    image_normalized = image_normalized.astype(np.uint8)\n",
    "    image_colored = cv2.applyColorMap(image_normalized, cv2.COLORMAP_BONE) # Применение цветовой карты\n",
    "    return image_colored"
   ]
  },
  {
   "cell_type": "code",
   "execution_count": 24,
   "metadata": {},
   "outputs": [],
   "source": [
    "image_grey = cv2.cvtColor(IMAGE_COLORMAP(f), cv2.COLOR_BGR2GRAY) \n",
    "M, N = image_grey.shape\n",
    "H1_p = np.zeros((M,N), dtype=np.float32) # Передаточная функция низкочастотного фильтра\n",
    "D0 = 50 # точка профиля фильтра (частота среза)\n",
    "for u in range(M):\n",
    "    for v in range(N):\n",
    "        D = np.sqrt((u-M/2)**2 + (v-N/2)**2) # Расстояние от точки (u, v) до начала координат\n",
    "        if D <= D0:\n",
    "            H1_p[u,v] = 1\n",
    "        else:\n",
    "            H1_p[u,v] = 0\n",
    "\n",
    "Gshift = Fshift * H1_p # Выходное преобразование Фурье\n",
    "G = np.fft.ifftshift(Gshift)\n",
    "g = np.abs(np.fft.ifft2(G))\n",
    "\n",
    "g_mask = cv2.cvtColor(IMAGE_COLORMAP(g), cv2.COLOR_BGR2GRAY) \n",
    "\n",
    "cv2.imshow(window_name, g_mask)\n",
    "cv2.waitKey(0)\n",
    "cv2.destroyAllWindows()\n"
   ]
  },
  {
   "cell_type": "markdown",
   "metadata": {},
   "source": [
    "### 2.2. Подбором параметра A добейтесь наилучшего результата повыше резкости с помощью подъема частотной характеристики. "
   ]
  },
  {
   "cell_type": "code",
   "execution_count": 25,
   "metadata": {},
   "outputs": [
    {
     "data": {
      "text/plain": [
       "True"
      ]
     },
     "execution_count": 25,
     "metadata": {},
     "output_type": "execute_result"
    }
   ],
   "source": [
    "A = 2\n",
    "f_hb = np.add(A*f, - g_mask)\n",
    "cv2.imshow(window_name, IMAGE_COLORMAP(f_hb))\n",
    "cv2.waitKey(0)\n",
    "cv2.destroyAllWindows()\n",
    "cv2.imwrite ('Image_f_hb.jpg', IMAGE_COLORMAP(f_hb))\n"
   ]
  },
  {
   "cell_type": "markdown",
   "metadata": {},
   "source": [
    "### 2.3. Изображение, полученное в результате выполнения пункта 2.2, подвергните процедуре гистограммной эквализации."
   ]
  },
  {
   "cell_type": "code",
   "execution_count": 26,
   "metadata": {},
   "outputs": [],
   "source": [
    "\n",
    "def equalizeHist (image_path, image_nane):\n",
    "    img_HPF = cv2.imread(image_path)\n",
    "    img_to_yuv = cv2.cvtColor(img_HPF, cv2.COLOR_BGR2YUV) \n",
    "    img_to_yuv[:,:,0] = cv2.equalizeHist (img_to_yuv[:,:,0]) \n",
    "    hist_equalization_result = cv2.cvtColor(img_to_yuv, cv2.COLOR_YUV2BGR) \n",
    "    cv2.imwrite(image_nane, hist_equalization_result)\n",
    "    im1 =Image.open(image_nane)\n",
    "    img= cv2.imread(image_nane) \n",
    "    im1.show() \n",
    "    hist = im1.histogram()\n",
    "    hist= plt.hist (img.ravel (),256, [0,256])\n",
    "    plt.show()"
   ]
  },
  {
   "cell_type": "code",
   "execution_count": 27,
   "metadata": {},
   "outputs": [
    {
     "data": {
      "image/png": "[encoded data removed]",
      "text/plain": [
       "<Figure size 640x480 with 1 Axes>"
      ]
     },
     "metadata": {},
     "output_type": "display_data"
    }
   ],
   "source": [
    "equalizeHist('Image_f_hb.jpg', 'Image_f_hb_1.jpg')"
   ]
  },
  {
   "cell_type": "markdown",
   "metadata": {},
   "source": [
    "### 3.1 Выполните операцию высокочастотной фильтрации исходного изображения рентгеновского снимка грудной клетки xraychest.jpg."
   ]
  },
  {
   "cell_type": "code",
   "execution_count": null,
   "metadata": {},
   "outputs": [
    {
     "ename": "",
     "evalue": "",
     "output_type": "error",
     "traceback": [
      "\u001b[1;31mThe Kernel crashed while executing code in the current cell or a previous cell. \n",
      "\u001b[1;31mPlease review the code in the cell(s) to identify a possible cause of the failure. \n",
      "\u001b[1;31mClick <a href='https://aka.ms/vscodeJupyterKernelCrash'>here</a> for more info. \n",
      "\u001b[1;31mView Jupyter <a href='command:jupyter.viewOutput'>log</a> for further details."
     ]
    }
   ],
   "source": [
    "\n",
    "H_hp = 1 - H1_p\n"
   ]
  },
  {
   "cell_type": "markdown",
   "metadata": {},
   "source": [
    "### 3.2 Подбором параметров a и b добейтесь усиления высоких частот."
   ]
  },
  {
   "cell_type": "code",
   "execution_count": null,
   "metadata": {},
   "outputs": [],
   "source": [
    "a = 0.25\n",
    "b = 1\n",
    "H_hfe = a + b * H_hp\n",
    "Gshift = Fshift * H_hfe\n",
    "G = np.fft.ifftshift(Gshift)\n",
    "g = np.abs(np.fft.ifft2(G))\n",
    "\n",
    "cv2.imshow(window_name, IMAGE_COLORMAP(g))\n",
    "cv2.waitKey(0)\n",
    "cv2.destroyAllWindows()\n",
    "\n",
    "cv2.imwrite ('Image_g_hb.jpg', IMAGE_COLORMAP(g))"
   ]
  },
  {
   "cell_type": "markdown",
   "metadata": {},
   "source": [
    "### 3.3. Изображение, полученное в результате выполнения пункта 3.2, подвергните процедуре гистограммной эквализации. "
   ]
  },
  {
   "cell_type": "code",
   "execution_count": null,
   "metadata": {},
   "outputs": [
    {
     "data": {
      "image/png": "[encoded data removed]",
      "text/plain": [
       "<Figure size 640x480 with 1 Axes>"
      ]
     },
     "metadata": {},
     "output_type": "display_data"
    }
   ],
   "source": [
    "equalizeHist('Image_g_hb.jpg', 'Image_g_hb_1.jpg')"
   ]
  }
 ],
 "metadata": {
  "kernelspec": {
   "display_name": "Python 3",
   "language": "python",
   "name": "python3"
  },
  "language_info": {
   "codemirror_mode": {
    "name": "ipython",
    "version": 3
   },
   "file_extension": ".py",
   "mimetype": "text/x-python",
   "name": "python",
   "nbconvert_exporter": "python",
   "pygments_lexer": "ipython3",
   "version": "3.10.2"
  }
 },
 "nbformat": 4,
 "nbformat_minor": 2
}
